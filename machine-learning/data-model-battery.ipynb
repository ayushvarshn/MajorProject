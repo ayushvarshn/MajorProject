{
 "cells": [
  {
   "cell_type": "code",
   "execution_count": 1,
   "metadata": {},
   "outputs": [],
   "source": [
    "import pandas as pd\n",
    "import numpy as np"
   ]
  },
  {
   "cell_type": "code",
   "execution_count": 2,
   "metadata": {},
   "outputs": [],
   "source": [
    "data=pd.read_csv('MajorProject/csvdata/CH11.csv')"
   ]
  },
  {
   "cell_type": "code",
   "execution_count": 3,
   "metadata": {},
   "outputs": [],
   "source": [
    "def closest(lst, K): \n",
    "     lst = np.asarray(lst) \n",
    "     idx = (np.abs(lst - K)).argmin() \n",
    "     return lst[idx] \n",
    "      "
   ]
  },
  {
   "cell_type": "code",
   "execution_count": 16,
   "metadata": {},
   "outputs": [],
   "source": [
    "def get(cycle,t):\n",
    "    data_cycle=data[data['cycle']==cycle]\n",
    "    return data_cycle[data_cycle['time']==closest(data_cycle['time'],t)]"
   ]
  },
  {
   "cell_type": "code",
   "execution_count": 20,
   "metadata": {},
   "outputs": [
    {
     "data": {
      "text/html": [
       "<div>\n",
       "<style scoped>\n",
       "    .dataframe tbody tr th:only-of-type {\n",
       "        vertical-align: middle;\n",
       "    }\n",
       "\n",
       "    .dataframe tbody tr th {\n",
       "        vertical-align: top;\n",
       "    }\n",
       "\n",
       "    .dataframe thead th {\n",
       "        text-align: right;\n",
       "    }\n",
       "</style>\n",
       "<table border=\"1\" class=\"dataframe\">\n",
       "  <thead>\n",
       "    <tr style=\"text-align: right;\">\n",
       "      <th></th>\n",
       "      <th>cycle</th>\n",
       "      <th>time</th>\n",
       "      <th>charge</th>\n",
       "      <th>current</th>\n",
       "      <th>voltage</th>\n",
       "      <th>temp</th>\n",
       "      <th>discharge</th>\n",
       "      <th>soc</th>\n",
       "    </tr>\n",
       "  </thead>\n",
       "  <tbody>\n",
       "    <tr>\n",
       "      <th>2417</th>\n",
       "      <td>4</td>\n",
       "      <td>10.0015</td>\n",
       "      <td>0.881426</td>\n",
       "      <td>1.00002</td>\n",
       "      <td>3.39127</td>\n",
       "      <td>34.7704</td>\n",
       "      <td>3.334520e-09</td>\n",
       "      <td>80.1296</td>\n",
       "    </tr>\n",
       "    <tr>\n",
       "      <th>2418</th>\n",
       "      <td>4</td>\n",
       "      <td>10.0015</td>\n",
       "      <td>0.881426</td>\n",
       "      <td>1.00002</td>\n",
       "      <td>3.39127</td>\n",
       "      <td>34.6564</td>\n",
       "      <td>3.334520e-09</td>\n",
       "      <td>80.1296</td>\n",
       "    </tr>\n",
       "  </tbody>\n",
       "</table>\n",
       "</div>"
      ],
      "text/plain": [
       "      cycle     time    charge  current  voltage     temp     discharge  \\\n",
       "2417      4  10.0015  0.881426  1.00002  3.39127  34.7704  3.334520e-09   \n",
       "2418      4  10.0015  0.881426  1.00002  3.39127  34.6564  3.334520e-09   \n",
       "\n",
       "          soc  \n",
       "2417  80.1296  \n",
       "2418  80.1296  "
      ]
     },
     "execution_count": 20,
     "metadata": {},
     "output_type": "execute_result"
    }
   ],
   "source": [
    "get(4,10)"
   ]
  },
  {
   "cell_type": "code",
   "execution_count": null,
   "metadata": {},
   "outputs": [],
   "source": []
  }
 ],
 "metadata": {
  "kernelspec": {
   "display_name": "Python 3",
   "language": "python",
   "name": "python3"
  },
  "language_info": {
   "codemirror_mode": {
    "name": "ipython",
    "version": 3
   },
   "file_extension": ".py",
   "mimetype": "text/x-python",
   "name": "python",
   "nbconvert_exporter": "python",
   "pygments_lexer": "ipython3",
   "version": "3.6.12"
  }
 },
 "nbformat": 4,
 "nbformat_minor": 4
}
