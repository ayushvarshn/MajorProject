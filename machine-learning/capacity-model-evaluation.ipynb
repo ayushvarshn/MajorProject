{
 "cells": [
  {
   "cell_type": "code",
   "execution_count": 103,
   "metadata": {},
   "outputs": [],
   "source": [
    "import pandas as pd\n",
    "import matplotlib.pyplot as plt\n",
    "import numpy as np\n",
    "from sklearn.ensemble import RandomForestRegressor\n",
    "from tensorflow import keras\n",
    "from keras.models import Sequential\n",
    "from keras.layers import Dense\n",
    "from sklearn.metrics import mean_squared_error as mse\n",
    "from sklearn.metrics import r2_score \n",
    "from sklearn.neural_network import MLPRegressor\n",
    "from sklearn.cross_decomposition import PLSRegression\n",
    "from sklearn.linear_model import LinearRegression"
   ]
  },
  {
   "cell_type": "code",
   "execution_count": 104,
   "metadata": {},
   "outputs": [],
   "source": [
    "df=pd.read_csv('Maxcap_train.csv')\n",
    "df_test=pd.read_csv('Maxcap_test.csv')"
   ]
  },
  {
   "cell_type": "code",
   "execution_count": 105,
   "metadata": {},
   "outputs": [],
   "source": [
    "x_train=df[['cycle','meanV','meanI','meanT']]\n",
    "#x_train=df[['cycle','meanV']]\n",
    "\n",
    "y_train=df['maxcap']\n",
    "x_test=df_test[['cycle','meanV','meanI','meanT']]\n",
    "#x_test=df_test[['cycle','meanV']]\n",
    "\n",
    "y_test=df_test['maxcap']"
   ]
  },
  {
   "cell_type": "code",
   "execution_count": 106,
   "metadata": {},
   "outputs": [],
   "source": [
    "def correct(y):\n",
    "    for i in range(len(y)):\n",
    "        if(y[i]>100):\n",
    "            y[i]=100\n",
    "        if(y[i]<0):\n",
    "            y[i]=0\n",
    "    return y\n",
    "    "
   ]
  },
  {
   "cell_type": "code",
   "execution_count": 107,
   "metadata": {},
   "outputs": [],
   "source": [
    "def evaluate(model):\n",
    "    #model.fit(x_train,y_train)\n",
    "    p_train=model.predict(x_train)\n",
    "    p_test=model.predict(x_test)\n",
    "    p_test=p_test.reshape(-1)\n",
    "    p_test=correct(p_test)\n",
    "    p_train=p_train.reshape(-1)\n",
    "    p_train=correct(p_train)\n",
    "    print(\"Training data\")\n",
    "    print('r2:',\"%.2f\"%r2_score(p_train,y_train))\n",
    "    per=np.sqrt(mse(p_train,y_train))\n",
    "    print(\"Mean Error :\",\"%.2f\"%per)\n",
    "    print(\"Max Error:\",\"%.2f\"%max(np.abs(y_train-p_train)))\n",
    "    \n",
    "    print(\"\\nTest data\")\n",
    "    print('r2:',\"%.2f\"%r2_score(p_test,y_test))\n",
    "    per=np.sqrt(mse(p_test,y_test))/100\n",
    "    print(\"Mean Error  :\",\"%.2f\"%per)\n",
    "    print(\"Max Error:\",\"%.2f\"%max(np.abs(y_test-p_test)))\n",
    "    \n",
    "    fig, (ax1, ax2) = plt.subplots(1, 2)\n",
    "    ax1.set_title('Train data plot')\n",
    " \n",
    "    ax1.scatter(y_train,p_train)\n",
    "    ax1.plot([0,1],[0,1], transform=ax1.transAxes)\n",
    "    ax2.set_title('Test data plot')\n",
    "\n",
    "    ax2.scatter(y_test,p_test)\n",
    "    ax2.plot([0,1],[0,1], transform=ax2.transAxes)\n",
    "    plt.show()"
   ]
  },
  {
   "cell_type": "code",
   "execution_count": 108,
   "metadata": {},
   "outputs": [
    {
     "data": {
      "text/html": [
       "<div>\n",
       "<style scoped>\n",
       "    .dataframe tbody tr th:only-of-type {\n",
       "        vertical-align: middle;\n",
       "    }\n",
       "\n",
       "    .dataframe tbody tr th {\n",
       "        vertical-align: top;\n",
       "    }\n",
       "\n",
       "    .dataframe thead th {\n",
       "        text-align: right;\n",
       "    }\n",
       "</style>\n",
       "<table border=\"1\" class=\"dataframe\">\n",
       "  <thead>\n",
       "    <tr style=\"text-align: right;\">\n",
       "      <th></th>\n",
       "      <th>cycle</th>\n",
       "      <th>meanV</th>\n",
       "      <th>meanI</th>\n",
       "      <th>meanT</th>\n",
       "    </tr>\n",
       "  </thead>\n",
       "  <tbody>\n",
       "    <tr>\n",
       "      <th>0</th>\n",
       "      <td>10.0</td>\n",
       "      <td>3.122082</td>\n",
       "      <td>2.685971</td>\n",
       "      <td>32.398035</td>\n",
       "    </tr>\n",
       "    <tr>\n",
       "      <th>1</th>\n",
       "      <td>11.0</td>\n",
       "      <td>3.117410</td>\n",
       "      <td>2.670149</td>\n",
       "      <td>32.347859</td>\n",
       "    </tr>\n",
       "    <tr>\n",
       "      <th>2</th>\n",
       "      <td>12.0</td>\n",
       "      <td>3.119771</td>\n",
       "      <td>2.677731</td>\n",
       "      <td>32.292283</td>\n",
       "    </tr>\n",
       "    <tr>\n",
       "      <th>3</th>\n",
       "      <td>13.0</td>\n",
       "      <td>3.113153</td>\n",
       "      <td>2.697176</td>\n",
       "      <td>32.253605</td>\n",
       "    </tr>\n",
       "    <tr>\n",
       "      <th>4</th>\n",
       "      <td>14.0</td>\n",
       "      <td>3.119159</td>\n",
       "      <td>2.666390</td>\n",
       "      <td>32.313815</td>\n",
       "    </tr>\n",
       "    <tr>\n",
       "      <th>...</th>\n",
       "      <td>...</td>\n",
       "      <td>...</td>\n",
       "      <td>...</td>\n",
       "      <td>...</td>\n",
       "    </tr>\n",
       "    <tr>\n",
       "      <th>4444</th>\n",
       "      <td>699.0</td>\n",
       "      <td>3.076217</td>\n",
       "      <td>2.554513</td>\n",
       "      <td>32.712370</td>\n",
       "    </tr>\n",
       "    <tr>\n",
       "      <th>4445</th>\n",
       "      <td>700.0</td>\n",
       "      <td>2.994252</td>\n",
       "      <td>2.396890</td>\n",
       "      <td>32.442615</td>\n",
       "    </tr>\n",
       "    <tr>\n",
       "      <th>4446</th>\n",
       "      <td>701.0</td>\n",
       "      <td>2.973596</td>\n",
       "      <td>2.352294</td>\n",
       "      <td>32.495816</td>\n",
       "    </tr>\n",
       "    <tr>\n",
       "      <th>4447</th>\n",
       "      <td>702.0</td>\n",
       "      <td>2.999863</td>\n",
       "      <td>2.365055</td>\n",
       "      <td>32.398418</td>\n",
       "    </tr>\n",
       "    <tr>\n",
       "      <th>4448</th>\n",
       "      <td>703.0</td>\n",
       "      <td>3.002193</td>\n",
       "      <td>2.313626</td>\n",
       "      <td>32.402008</td>\n",
       "    </tr>\n",
       "  </tbody>\n",
       "</table>\n",
       "<p>4449 rows × 4 columns</p>\n",
       "</div>"
      ],
      "text/plain": [
       "      cycle     meanV     meanI      meanT\n",
       "0      10.0  3.122082  2.685971  32.398035\n",
       "1      11.0  3.117410  2.670149  32.347859\n",
       "2      12.0  3.119771  2.677731  32.292283\n",
       "3      13.0  3.113153  2.697176  32.253605\n",
       "4      14.0  3.119159  2.666390  32.313815\n",
       "...     ...       ...       ...        ...\n",
       "4444  699.0  3.076217  2.554513  32.712370\n",
       "4445  700.0  2.994252  2.396890  32.442615\n",
       "4446  701.0  2.973596  2.352294  32.495816\n",
       "4447  702.0  2.999863  2.365055  32.398418\n",
       "4448  703.0  3.002193  2.313626  32.402008\n",
       "\n",
       "[4449 rows x 4 columns]"
      ]
     },
     "execution_count": 108,
     "metadata": {},
     "output_type": "execute_result"
    }
   ],
   "source": [
    "x_train"
   ]
  },
  {
   "cell_type": "code",
   "execution_count": 109,
   "metadata": {},
   "outputs": [
    {
     "data": {
      "text/html": [
       "<div>\n",
       "<style scoped>\n",
       "    .dataframe tbody tr th:only-of-type {\n",
       "        vertical-align: middle;\n",
       "    }\n",
       "\n",
       "    .dataframe tbody tr th {\n",
       "        vertical-align: top;\n",
       "    }\n",
       "\n",
       "    .dataframe thead th {\n",
       "        text-align: right;\n",
       "    }\n",
       "</style>\n",
       "<table border=\"1\" class=\"dataframe\">\n",
       "  <thead>\n",
       "    <tr style=\"text-align: right;\">\n",
       "      <th></th>\n",
       "      <th>cycle</th>\n",
       "      <th>meanV</th>\n",
       "      <th>meanI</th>\n",
       "      <th>meanT</th>\n",
       "    </tr>\n",
       "  </thead>\n",
       "  <tbody>\n",
       "    <tr>\n",
       "      <th>0</th>\n",
       "      <td>10.0</td>\n",
       "      <td>3.123066</td>\n",
       "      <td>2.560892</td>\n",
       "      <td>31.987980</td>\n",
       "    </tr>\n",
       "    <tr>\n",
       "      <th>1</th>\n",
       "      <td>11.0</td>\n",
       "      <td>3.125962</td>\n",
       "      <td>2.615394</td>\n",
       "      <td>32.029985</td>\n",
       "    </tr>\n",
       "    <tr>\n",
       "      <th>2</th>\n",
       "      <td>12.0</td>\n",
       "      <td>3.123039</td>\n",
       "      <td>2.615390</td>\n",
       "      <td>32.072339</td>\n",
       "    </tr>\n",
       "    <tr>\n",
       "      <th>3</th>\n",
       "      <td>13.0</td>\n",
       "      <td>3.122536</td>\n",
       "      <td>2.606776</td>\n",
       "      <td>32.062292</td>\n",
       "    </tr>\n",
       "    <tr>\n",
       "      <th>4</th>\n",
       "      <td>14.0</td>\n",
       "      <td>3.129108</td>\n",
       "      <td>2.617113</td>\n",
       "      <td>32.031822</td>\n",
       "    </tr>\n",
       "    <tr>\n",
       "      <th>...</th>\n",
       "      <td>...</td>\n",
       "      <td>...</td>\n",
       "      <td>...</td>\n",
       "      <td>...</td>\n",
       "    </tr>\n",
       "    <tr>\n",
       "      <th>1748</th>\n",
       "      <td>871.0</td>\n",
       "      <td>3.033633</td>\n",
       "      <td>2.542227</td>\n",
       "      <td>30.114897</td>\n",
       "    </tr>\n",
       "    <tr>\n",
       "      <th>1749</th>\n",
       "      <td>872.0</td>\n",
       "      <td>3.034351</td>\n",
       "      <td>2.546643</td>\n",
       "      <td>30.112802</td>\n",
       "    </tr>\n",
       "    <tr>\n",
       "      <th>1750</th>\n",
       "      <td>873.0</td>\n",
       "      <td>3.040200</td>\n",
       "      <td>2.551430</td>\n",
       "      <td>30.084579</td>\n",
       "    </tr>\n",
       "    <tr>\n",
       "      <th>1751</th>\n",
       "      <td>874.0</td>\n",
       "      <td>3.036886</td>\n",
       "      <td>2.548588</td>\n",
       "      <td>30.260962</td>\n",
       "    </tr>\n",
       "    <tr>\n",
       "      <th>1752</th>\n",
       "      <td>875.0</td>\n",
       "      <td>3.043457</td>\n",
       "      <td>2.528361</td>\n",
       "      <td>30.449696</td>\n",
       "    </tr>\n",
       "  </tbody>\n",
       "</table>\n",
       "<p>1753 rows × 4 columns</p>\n",
       "</div>"
      ],
      "text/plain": [
       "      cycle     meanV     meanI      meanT\n",
       "0      10.0  3.123066  2.560892  31.987980\n",
       "1      11.0  3.125962  2.615394  32.029985\n",
       "2      12.0  3.123039  2.615390  32.072339\n",
       "3      13.0  3.122536  2.606776  32.062292\n",
       "4      14.0  3.129108  2.617113  32.031822\n",
       "...     ...       ...       ...        ...\n",
       "1748  871.0  3.033633  2.542227  30.114897\n",
       "1749  872.0  3.034351  2.546643  30.112802\n",
       "1750  873.0  3.040200  2.551430  30.084579\n",
       "1751  874.0  3.036886  2.548588  30.260962\n",
       "1752  875.0  3.043457  2.528361  30.449696\n",
       "\n",
       "[1753 rows x 4 columns]"
      ]
     },
     "execution_count": 109,
     "metadata": {},
     "output_type": "execute_result"
    }
   ],
   "source": [
    "x_test"
   ]
  },
  {
   "cell_type": "code",
   "execution_count": null,
   "metadata": {},
   "outputs": [],
   "source": [
    "sav"
   ]
  },
  {
   "cell_type": "code",
   "execution_count": 110,
   "metadata": {},
   "outputs": [],
   "source": [
    "def pr(a,b):\n",
    "    return pd.DataFrame(a.values*b.values)"
   ]
  },
  {
   "cell_type": "code",
   "execution_count": 111,
   "metadata": {},
   "outputs": [],
   "source": [
    "c=x_train[['cycle']]\n",
    "v=x_train[['meanV']]\n",
    "i=x_train[['meanI']]\n",
    "t=x_train[['meanT']]\n",
    "x_new=pd.concat([i,t,c,v,pr(c,v),pr(c**2,v),pr(c,v**2)],axis=1)\n"
   ]
  },
  {
   "cell_type": "code",
   "execution_count": 112,
   "metadata": {},
   "outputs": [],
   "source": [
    "c=x_test[['cycle']]\n",
    "v=x_test[['meanV']]\n",
    "i=x_test[['meanI']]\n",
    "t=x_test[['meanT']]\n",
    "x_newt=pd.concat([i,t,c,v,pr(c,v),pr(c**2,v),pr(c,v**2)],axis=1)"
   ]
  },
  {
   "cell_type": "code",
   "execution_count": 123,
   "metadata": {},
   "outputs": [
    {
     "name": "stdout",
     "output_type": "stream",
     "text": [
      "Train RMS error 0.01\n",
      "Train Max error  0.07\n",
      "Test Max error  0.09\n",
      "Train RMS error 0.02\n"
     ]
    },
    {
     "data": {
      "image/png": "[encoded data removed]",
      "text/plain": [
       "<Figure size 432x288 with 2 Axes>"
      ]
     },
     "metadata": {
      "needs_background": "light"
     },
     "output_type": "display_data"
    }
   ],
   "source": [
    "lr=LinearRegression()\n",
    "lr.fit(x_new,y_train)\n",
    "p_train=lr.predict(x_new)\n",
    "p_test=lr.predict(x_newt)\n",
    "max_err_train=max(np.abs(y_test-p_test))\n",
    "max_err_test= max(np.abs(y_train-p_train))\n",
    "print(\"Train RMS error\",\"%.2f\"%np.sqrt(mse(y_train,p_train)))\n",
    "print(\"Train Max error \",\"%.2f\"%max_err_train)\n",
    "print(\"Test Max error \",\"%.2f\"%max_err_test)\n",
    "print(\"Train RMS error\",\"%.2f\"%np.sqrt(mse(y_test,p_test)))\n",
    "fig, (ax1, ax2) = plt.subplots(1, 2)\n",
    "ax1.set_title('Train data plot')\n",
    "\n",
    "ax1.scatter(y_train,p_train)\n",
    "ax1.plot([0,1],[0,1], transform=ax1.transAxes)\n",
    "ax2.set_title('Test data plot')\n",
    "\n",
    "ax2.scatter(y_test,p_test)\n",
    "ax2.plot([0,1],[0,1], transform=ax2.transAxes)\n",
    "plt.show()"
   ]
  },
  {
   "cell_type": "code",
   "execution_count": 120,
   "metadata": {},
   "outputs": [
    {
     "data": {
      "text/plain": [
       "<BarContainer object of 7 artists>"
      ]
     },
     "execution_count": 120,
     "metadata": {},
     "output_type": "execute_result"
    },
    {
     "data": {
      "image/png": "[encoded data removed]",
      "text/plain": [
       "<Figure size 432x288 with 1 Axes>"
      ]
     },
     "metadata": {
      "needs_background": "light"
     },
     "output_type": "display_data"
    }
   ],
   "source": [
    "w=[]\n",
    "for i in range(1,8):\n",
    "    w.append('w'+str(i))\n",
    "plt.bar(w,lr.coef_)"
   ]
  },
  {
   "cell_type": "code",
   "execution_count": 121,
   "metadata": {},
   "outputs": [
    {
     "data": {
      "text/plain": [
       "array([-4.02411054e-02,  3.11738127e-03,  4.46369398e-02,  6.38861175e-01,\n",
       "       -2.99954579e-02,  4.78113037e-08,  5.01282536e-03])"
      ]
     },
     "execution_count": 121,
     "metadata": {},
     "output_type": "execute_result"
    }
   ],
   "source": [
    "lr.coef_"
   ]
  },
  {
   "cell_type": "code",
   "execution_count": 115,
   "metadata": {},
   "outputs": [
    {
     "data": {
      "text/plain": [
       "[<matplotlib.lines.Line2D at 0x7f638eb19400>]"
      ]
     },
     "execution_count": 115,
     "metadata": {},
     "output_type": "execute_result"
    },
    {
     "data": {
      "image/png": "[encoded data removed]",
      "text/plain": [
       "<Figure size 432x288 with 1 Axes>"
      ]
     },
     "metadata": {
      "needs_background": "light"
     },
     "output_type": "display_data"
    }
   ],
   "source": [
    "plt.plot(y_test)\n",
    "plt.plot(lr.predict(x_newt))"
   ]
  },
  {
   "cell_type": "code",
   "execution_count": 116,
   "metadata": {},
   "outputs": [
    {
     "data": {
      "text/plain": [
       "array([-4.02411054e-02,  3.11738127e-03,  4.46369398e-02,  6.38861175e-01,\n",
       "       -2.99954579e-02,  4.78113037e-08,  5.01282536e-03])"
      ]
     },
     "execution_count": 116,
     "metadata": {},
     "output_type": "execute_result"
    }
   ],
   "source": [
    "lr.coef_"
   ]
  },
  {
   "cell_type": "code",
   "execution_count": null,
   "metadata": {},
   "outputs": [],
   "source": []
  },
  {
   "cell_type": "markdown",
   "metadata": {},
   "source": [
    "## Random Forest"
   ]
  },
  {
   "cell_type": "code",
   "execution_count": 78,
   "metadata": {},
   "outputs": [
    {
     "name": "stdout",
     "output_type": "stream",
     "text": [
      "Training data\n",
      "r2: 1.00\n",
      "Mean Error : 0.00\n",
      "Max Error: 0.03\n",
      "\n",
      "Test data\n",
      "r2: 0.72\n",
      "Mean Error  : 0.00\n",
      "Max Error: 0.08\n"
     ]
    },
    {
     "data": {
      "image/png": "[encoded data removed]",
      "text/plain": [
       "<Figure size 432x288 with 2 Axes>"
      ]
     },
     "metadata": {
      "needs_background": "light"
     },
     "output_type": "display_data"
    }
   ],
   "source": [
    "rf=RandomForestRegressor(n_estimators=50)\n",
    "rf.fit(x_train,y_train)\n",
    "evaluate(rf)"
   ]
  },
  {
   "cell_type": "code",
   "execution_count": 79,
   "metadata": {},
   "outputs": [
    {
     "data": {
      "text/html": [
       "<div>\n",
       "<style scoped>\n",
       "    .dataframe tbody tr th:only-of-type {\n",
       "        vertical-align: middle;\n",
       "    }\n",
       "\n",
       "    .dataframe tbody tr th {\n",
       "        vertical-align: top;\n",
       "    }\n",
       "\n",
       "    .dataframe thead th {\n",
       "        text-align: right;\n",
       "    }\n",
       "</style>\n",
       "<table border=\"1\" class=\"dataframe\">\n",
       "  <thead>\n",
       "    <tr style=\"text-align: right;\">\n",
       "      <th></th>\n",
       "      <th>meanI</th>\n",
       "    </tr>\n",
       "  </thead>\n",
       "  <tbody>\n",
       "    <tr>\n",
       "      <th>0</th>\n",
       "      <td>2.560892</td>\n",
       "    </tr>\n",
       "    <tr>\n",
       "      <th>1</th>\n",
       "      <td>2.615394</td>\n",
       "    </tr>\n",
       "    <tr>\n",
       "      <th>2</th>\n",
       "      <td>2.615390</td>\n",
       "    </tr>\n",
       "    <tr>\n",
       "      <th>3</th>\n",
       "      <td>2.606776</td>\n",
       "    </tr>\n",
       "    <tr>\n",
       "      <th>4</th>\n",
       "      <td>2.617113</td>\n",
       "    </tr>\n",
       "    <tr>\n",
       "      <th>...</th>\n",
       "      <td>...</td>\n",
       "    </tr>\n",
       "    <tr>\n",
       "      <th>1748</th>\n",
       "      <td>2.542227</td>\n",
       "    </tr>\n",
       "    <tr>\n",
       "      <th>1749</th>\n",
       "      <td>2.546643</td>\n",
       "    </tr>\n",
       "    <tr>\n",
       "      <th>1750</th>\n",
       "      <td>2.551430</td>\n",
       "    </tr>\n",
       "    <tr>\n",
       "      <th>1751</th>\n",
       "      <td>2.548588</td>\n",
       "    </tr>\n",
       "    <tr>\n",
       "      <th>1752</th>\n",
       "      <td>2.528361</td>\n",
       "    </tr>\n",
       "  </tbody>\n",
       "</table>\n",
       "<p>1753 rows × 1 columns</p>\n",
       "</div>"
      ],
      "text/plain": [
       "         meanI\n",
       "0     2.560892\n",
       "1     2.615394\n",
       "2     2.615390\n",
       "3     2.606776\n",
       "4     2.617113\n",
       "...        ...\n",
       "1748  2.542227\n",
       "1749  2.546643\n",
       "1750  2.551430\n",
       "1751  2.548588\n",
       "1752  2.528361\n",
       "\n",
       "[1753 rows x 1 columns]"
      ]
     },
     "execution_count": 79,
     "metadata": {},
     "output_type": "execute_result"
    }
   ],
   "source": [
    "i"
   ]
  },
  {
   "cell_type": "code",
   "execution_count": 80,
   "metadata": {},
   "outputs": [
    {
     "data": {
      "text/plain": [
       "[<matplotlib.lines.Line2D at 0x7f638eddba90>]"
      ]
     },
     "execution_count": 80,
     "metadata": {},
     "output_type": "execute_result"
    },
    {
     "data": {
      "image/png": "[encoded data removed]",
      "text/plain": [
       "<Figure size 432x288 with 1 Axes>"
      ]
     },
     "metadata": {
      "needs_background": "light"
     },
     "output_type": "display_data"
    }
   ],
   "source": [
    "plt.plot(y_test)\n",
    "plt.plot(rf.predict(x_test))"
   ]
  },
  {
   "cell_type": "code",
   "execution_count": null,
   "metadata": {},
   "outputs": [],
   "source": []
  }
 ],
 "metadata": {
  "kernelspec": {
   "display_name": "Python 3",
   "language": "python",
   "name": "python3"
  },
  "language_info": {
   "codemirror_mode": {
    "name": "ipython",
    "version": 3
   },
   "file_extension": ".py",
   "mimetype": "text/x-python",
   "name": "python",
   "nbconvert_exporter": "python",
   "pygments_lexer": "ipython3",
   "version": "3.6.12"
  }
 },
 "nbformat": 4,
 "nbformat_minor": 4
}
